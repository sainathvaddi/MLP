{
  "nbformat": 4,
  "nbformat_minor": 0,
  "metadata": {
    "colab": {
      "provenance": [],
      "gpuType": "T4"
    },
    "kernelspec": {
      "name": "python3",
      "display_name": "Python 3"
    },
    "language_info": {
      "name": "python"
    },
    "accelerator": "GPU"
  },
  "cells": [
    {
      "cell_type": "code",
      "execution_count": null,
      "metadata": {
        "colab": {
          "base_uri": "https://localhost:8080/"
        },
        "id": "ALeGnyGoyGPQ",
        "outputId": "0ce060e3-d79a-4b26-8e63-d30c2452b40c"
      },
      "outputs": [
        {
          "output_type": "stream",
          "name": "stdout",
          "text": [
            "Requirement already satisfied: torch in /usr/local/lib/python3.10/dist-packages (2.2.1+cu121)\n",
            "Requirement already satisfied: filelock in /usr/local/lib/python3.10/dist-packages (from torch) (3.14.0)\n",
            "Requirement already satisfied: typing-extensions>=4.8.0 in /usr/local/lib/python3.10/dist-packages (from torch) (4.11.0)\n",
            "Requirement already satisfied: sympy in /usr/local/lib/python3.10/dist-packages (from torch) (1.12)\n",
            "Requirement already satisfied: networkx in /usr/local/lib/python3.10/dist-packages (from torch) (3.3)\n",
            "Requirement already satisfied: jinja2 in /usr/local/lib/python3.10/dist-packages (from torch) (3.1.3)\n",
            "Requirement already satisfied: fsspec in /usr/local/lib/python3.10/dist-packages (from torch) (2023.6.0)\n",
            "Collecting nvidia-cuda-nvrtc-cu12==12.1.105 (from torch)\n",
            "  Using cached nvidia_cuda_nvrtc_cu12-12.1.105-py3-none-manylinux1_x86_64.whl (23.7 MB)\n",
            "Collecting nvidia-cuda-runtime-cu12==12.1.105 (from torch)\n",
            "  Using cached nvidia_cuda_runtime_cu12-12.1.105-py3-none-manylinux1_x86_64.whl (823 kB)\n",
            "Collecting nvidia-cuda-cupti-cu12==12.1.105 (from torch)\n",
            "  Using cached nvidia_cuda_cupti_cu12-12.1.105-py3-none-manylinux1_x86_64.whl (14.1 MB)\n",
            "Collecting nvidia-cudnn-cu12==8.9.2.26 (from torch)\n",
            "  Using cached nvidia_cudnn_cu12-8.9.2.26-py3-none-manylinux1_x86_64.whl (731.7 MB)\n",
            "Collecting nvidia-cublas-cu12==12.1.3.1 (from torch)\n",
            "  Using cached nvidia_cublas_cu12-12.1.3.1-py3-none-manylinux1_x86_64.whl (410.6 MB)\n",
            "Collecting nvidia-cufft-cu12==11.0.2.54 (from torch)\n",
            "  Using cached nvidia_cufft_cu12-11.0.2.54-py3-none-manylinux1_x86_64.whl (121.6 MB)\n",
            "Collecting nvidia-curand-cu12==10.3.2.106 (from torch)\n",
            "  Using cached nvidia_curand_cu12-10.3.2.106-py3-none-manylinux1_x86_64.whl (56.5 MB)\n",
            "Collecting nvidia-cusolver-cu12==11.4.5.107 (from torch)\n",
            "  Using cached nvidia_cusolver_cu12-11.4.5.107-py3-none-manylinux1_x86_64.whl (124.2 MB)\n",
            "Collecting nvidia-cusparse-cu12==12.1.0.106 (from torch)\n",
            "  Using cached nvidia_cusparse_cu12-12.1.0.106-py3-none-manylinux1_x86_64.whl (196.0 MB)\n",
            "Collecting nvidia-nccl-cu12==2.19.3 (from torch)\n",
            "  Using cached nvidia_nccl_cu12-2.19.3-py3-none-manylinux1_x86_64.whl (166.0 MB)\n",
            "Collecting nvidia-nvtx-cu12==12.1.105 (from torch)\n",
            "  Using cached nvidia_nvtx_cu12-12.1.105-py3-none-manylinux1_x86_64.whl (99 kB)\n",
            "Requirement already satisfied: triton==2.2.0 in /usr/local/lib/python3.10/dist-packages (from torch) (2.2.0)\n",
            "Collecting nvidia-nvjitlink-cu12 (from nvidia-cusolver-cu12==11.4.5.107->torch)\n",
            "  Using cached nvidia_nvjitlink_cu12-12.4.127-py3-none-manylinux2014_x86_64.whl (21.1 MB)\n",
            "Requirement already satisfied: MarkupSafe>=2.0 in /usr/local/lib/python3.10/dist-packages (from jinja2->torch) (2.1.5)\n",
            "Requirement already satisfied: mpmath>=0.19 in /usr/local/lib/python3.10/dist-packages (from sympy->torch) (1.3.0)\n",
            "Installing collected packages: nvidia-nvtx-cu12, nvidia-nvjitlink-cu12, nvidia-nccl-cu12, nvidia-curand-cu12, nvidia-cufft-cu12, nvidia-cuda-runtime-cu12, nvidia-cuda-nvrtc-cu12, nvidia-cuda-cupti-cu12, nvidia-cublas-cu12, nvidia-cusparse-cu12, nvidia-cudnn-cu12, nvidia-cusolver-cu12\n",
            "Successfully installed nvidia-cublas-cu12-12.1.3.1 nvidia-cuda-cupti-cu12-12.1.105 nvidia-cuda-nvrtc-cu12-12.1.105 nvidia-cuda-runtime-cu12-12.1.105 nvidia-cudnn-cu12-8.9.2.26 nvidia-cufft-cu12-11.0.2.54 nvidia-curand-cu12-10.3.2.106 nvidia-cusolver-cu12-11.4.5.107 nvidia-cusparse-cu12-12.1.0.106 nvidia-nccl-cu12-2.19.3 nvidia-nvjitlink-cu12-12.4.127 nvidia-nvtx-cu12-12.1.105\n",
            "Requirement already satisfied: torchvision in /usr/local/lib/python3.10/dist-packages (0.17.1+cu121)\n",
            "Requirement already satisfied: numpy in /usr/local/lib/python3.10/dist-packages (from torchvision) (1.25.2)\n",
            "Requirement already satisfied: torch==2.2.1 in /usr/local/lib/python3.10/dist-packages (from torchvision) (2.2.1+cu121)\n",
            "Requirement already satisfied: pillow!=8.3.*,>=5.3.0 in /usr/local/lib/python3.10/dist-packages (from torchvision) (9.4.0)\n",
            "Requirement already satisfied: filelock in /usr/local/lib/python3.10/dist-packages (from torch==2.2.1->torchvision) (3.14.0)\n",
            "Requirement already satisfied: typing-extensions>=4.8.0 in /usr/local/lib/python3.10/dist-packages (from torch==2.2.1->torchvision) (4.11.0)\n",
            "Requirement already satisfied: sympy in /usr/local/lib/python3.10/dist-packages (from torch==2.2.1->torchvision) (1.12)\n",
            "Requirement already satisfied: networkx in /usr/local/lib/python3.10/dist-packages (from torch==2.2.1->torchvision) (3.3)\n",
            "Requirement already satisfied: jinja2 in /usr/local/lib/python3.10/dist-packages (from torch==2.2.1->torchvision) (3.1.3)\n",
            "Requirement already satisfied: fsspec in /usr/local/lib/python3.10/dist-packages (from torch==2.2.1->torchvision) (2023.6.0)\n",
            "Requirement already satisfied: nvidia-cuda-nvrtc-cu12==12.1.105 in /usr/local/lib/python3.10/dist-packages (from torch==2.2.1->torchvision) (12.1.105)\n",
            "Requirement already satisfied: nvidia-cuda-runtime-cu12==12.1.105 in /usr/local/lib/python3.10/dist-packages (from torch==2.2.1->torchvision) (12.1.105)\n",
            "Requirement already satisfied: nvidia-cuda-cupti-cu12==12.1.105 in /usr/local/lib/python3.10/dist-packages (from torch==2.2.1->torchvision) (12.1.105)\n",
            "Requirement already satisfied: nvidia-cudnn-cu12==8.9.2.26 in /usr/local/lib/python3.10/dist-packages (from torch==2.2.1->torchvision) (8.9.2.26)\n",
            "Requirement already satisfied: nvidia-cublas-cu12==12.1.3.1 in /usr/local/lib/python3.10/dist-packages (from torch==2.2.1->torchvision) (12.1.3.1)\n",
            "Requirement already satisfied: nvidia-cufft-cu12==11.0.2.54 in /usr/local/lib/python3.10/dist-packages (from torch==2.2.1->torchvision) (11.0.2.54)\n",
            "Requirement already satisfied: nvidia-curand-cu12==10.3.2.106 in /usr/local/lib/python3.10/dist-packages (from torch==2.2.1->torchvision) (10.3.2.106)\n",
            "Requirement already satisfied: nvidia-cusolver-cu12==11.4.5.107 in /usr/local/lib/python3.10/dist-packages (from torch==2.2.1->torchvision) (11.4.5.107)\n",
            "Requirement already satisfied: nvidia-cusparse-cu12==12.1.0.106 in /usr/local/lib/python3.10/dist-packages (from torch==2.2.1->torchvision) (12.1.0.106)\n",
            "Requirement already satisfied: nvidia-nccl-cu12==2.19.3 in /usr/local/lib/python3.10/dist-packages (from torch==2.2.1->torchvision) (2.19.3)\n",
            "Requirement already satisfied: nvidia-nvtx-cu12==12.1.105 in /usr/local/lib/python3.10/dist-packages (from torch==2.2.1->torchvision) (12.1.105)\n",
            "Requirement already satisfied: triton==2.2.0 in /usr/local/lib/python3.10/dist-packages (from torch==2.2.1->torchvision) (2.2.0)\n",
            "Requirement already satisfied: nvidia-nvjitlink-cu12 in /usr/local/lib/python3.10/dist-packages (from nvidia-cusolver-cu12==11.4.5.107->torch==2.2.1->torchvision) (12.4.127)\n",
            "Requirement already satisfied: MarkupSafe>=2.0 in /usr/local/lib/python3.10/dist-packages (from jinja2->torch==2.2.1->torchvision) (2.1.5)\n",
            "Requirement already satisfied: mpmath>=0.19 in /usr/local/lib/python3.10/dist-packages (from sympy->torch==2.2.1->torchvision) (1.3.0)\n"
          ]
        }
      ],
      "source": [
        "!pip install torch\n",
        "!pip install torchvision\n",
        "import torch\n",
        "import torch.nn as nn\n",
        "import torch.optim as optim\n",
        "import torchvision\n",
        "import torchvision.transforms as transforms\n",
        "from sklearn.model_selection import KFold\n",
        "from sklearn.preprocessing import MinMaxScaler\n",
        "import numpy as np\n",
        "import matplotlib.pyplot as plt\n",
        "from sklearn.metrics import accuracy_score, confusion_matrix, classification_report\n",
        "import seaborn as sns\n",
        "import torch.nn.functional as F\n",
        "from torch.utils.data import DataLoader, SubsetRandomSampler\n",
        "from torchvision import datasets, transforms\n",
        "import time\n",
        "from torch.optim.lr_scheduler import StepLR\n"
      ]
    },
    {
      "cell_type": "code",
      "source": [
        "batch = 64\n",
        "epochs = 20\n",
        "device = torch.device('cuda:0' if torch.cuda.is_available() else 'cpu')\n",
        "device"
      ],
      "metadata": {
        "colab": {
          "base_uri": "https://localhost:8080/"
        },
        "id": "rYB2qrW6zRx9",
        "outputId": "3eda83f6-15e2-4bd2-bf31-81615df4fb35"
      },
      "execution_count": null,
      "outputs": [
        {
          "output_type": "execute_result",
          "data": {
            "text/plain": [
              "device(type='cuda', index=0)"
            ]
          },
          "metadata": {},
          "execution_count": 2
        }
      ]
    },
    {
      "cell_type": "code",
      "source": [
        "transform = transforms.Compose([\n",
        "    transforms.ToTensor(),\n",
        "    transforms.Normalize((0.5,), (0.5,))\n",
        "])\n",
        "\n",
        "trainset = torchvision.datasets.MNIST(root='./data', train=True, download=True, transform=transform)\n",
        "valid_dataset = datasets.MNIST(root='./data', train=True, transform=transform)\n",
        "testset = torchvision.datasets.MNIST(root='./data', train=False, download=True, transform=transform)\n"
      ],
      "metadata": {
        "id": "0ZtNqJxQ2LIL",
        "colab": {
          "base_uri": "https://localhost:8080/"
        },
        "outputId": "7bbe21e5-89bd-415b-8a0c-daae1b63e7c8"
      },
      "execution_count": null,
      "outputs": [
        {
          "output_type": "stream",
          "name": "stdout",
          "text": [
            "Downloading http://yann.lecun.com/exdb/mnist/train-images-idx3-ubyte.gz\n",
            "Failed to download (trying next):\n",
            "HTTP Error 403: Forbidden\n",
            "\n",
            "Downloading https://ossci-datasets.s3.amazonaws.com/mnist/train-images-idx3-ubyte.gz\n",
            "Downloading https://ossci-datasets.s3.amazonaws.com/mnist/train-images-idx3-ubyte.gz to ./data/MNIST/raw/train-images-idx3-ubyte.gz\n"
          ]
        },
        {
          "output_type": "stream",
          "name": "stderr",
          "text": [
            "100%|██████████| 9912422/9912422 [00:00<00:00, 38691528.63it/s]\n"
          ]
        },
        {
          "output_type": "stream",
          "name": "stdout",
          "text": [
            "Extracting ./data/MNIST/raw/train-images-idx3-ubyte.gz to ./data/MNIST/raw\n",
            "\n",
            "Downloading http://yann.lecun.com/exdb/mnist/train-labels-idx1-ubyte.gz\n",
            "Failed to download (trying next):\n",
            "HTTP Error 403: Forbidden\n",
            "\n",
            "Downloading https://ossci-datasets.s3.amazonaws.com/mnist/train-labels-idx1-ubyte.gz\n",
            "Downloading https://ossci-datasets.s3.amazonaws.com/mnist/train-labels-idx1-ubyte.gz to ./data/MNIST/raw/train-labels-idx1-ubyte.gz\n"
          ]
        },
        {
          "output_type": "stream",
          "name": "stderr",
          "text": [
            "100%|██████████| 28881/28881 [00:00<00:00, 1167966.97it/s]\n"
          ]
        },
        {
          "output_type": "stream",
          "name": "stdout",
          "text": [
            "Extracting ./data/MNIST/raw/train-labels-idx1-ubyte.gz to ./data/MNIST/raw\n",
            "\n",
            "Downloading http://yann.lecun.com/exdb/mnist/t10k-images-idx3-ubyte.gz\n",
            "Failed to download (trying next):\n",
            "HTTP Error 403: Forbidden\n",
            "\n",
            "Downloading https://ossci-datasets.s3.amazonaws.com/mnist/t10k-images-idx3-ubyte.gz\n",
            "Downloading https://ossci-datasets.s3.amazonaws.com/mnist/t10k-images-idx3-ubyte.gz to ./data/MNIST/raw/t10k-images-idx3-ubyte.gz\n"
          ]
        },
        {
          "output_type": "stream",
          "name": "stderr",
          "text": [
            "100%|██████████| 1648877/1648877 [00:00<00:00, 9500986.24it/s]\n"
          ]
        },
        {
          "output_type": "stream",
          "name": "stdout",
          "text": [
            "Extracting ./data/MNIST/raw/t10k-images-idx3-ubyte.gz to ./data/MNIST/raw\n",
            "\n",
            "Downloading http://yann.lecun.com/exdb/mnist/t10k-labels-idx1-ubyte.gz\n",
            "Failed to download (trying next):\n",
            "HTTP Error 403: Forbidden\n",
            "\n",
            "Downloading https://ossci-datasets.s3.amazonaws.com/mnist/t10k-labels-idx1-ubyte.gz\n",
            "Downloading https://ossci-datasets.s3.amazonaws.com/mnist/t10k-labels-idx1-ubyte.gz to ./data/MNIST/raw/t10k-labels-idx1-ubyte.gz\n"
          ]
        },
        {
          "output_type": "stream",
          "name": "stderr",
          "text": [
            "100%|██████████| 4542/4542 [00:00<00:00, 8627956.87it/s]"
          ]
        },
        {
          "output_type": "stream",
          "name": "stdout",
          "text": [
            "Extracting ./data/MNIST/raw/t10k-labels-idx1-ubyte.gz to ./data/MNIST/raw\n",
            "\n"
          ]
        },
        {
          "output_type": "stream",
          "name": "stderr",
          "text": [
            "\n"
          ]
        }
      ]
    },
    {
      "cell_type": "code",
      "source": [
        "validation_fraction = 0.1\n",
        "num = int(validation_fraction * 60000)\n",
        "train_indices = torch.arange(0, 60000 - num)\n",
        "valid_indices = torch.arange(60000 - num, 60000)\n",
        "train_sampler = SubsetRandomSampler(train_indices)\n",
        "valid_sampler = SubsetRandomSampler(valid_indices)"
      ],
      "metadata": {
        "id": "ZnZXf4dz3jrZ"
      },
      "execution_count": null,
      "outputs": []
    },
    {
      "cell_type": "code",
      "source": [
        "train_loader = DataLoader(dataset=trainset, batch_size=batch, drop_last=True, sampler=train_sampler)\n",
        "valid_loader = DataLoader(dataset=valid_dataset, batch_size=batch, sampler=valid_sampler)\n",
        "test_loader = DataLoader(dataset=testset, batch_size=batch, shuffle=False)"
      ],
      "metadata": {
        "id": "_hixFL0I3535"
      },
      "execution_count": null,
      "outputs": []
    },
    {
      "cell_type": "code",
      "source": [
        "for images, labels in train_loader:\n",
        "  print(images[0].shape, labels[0])\n",
        "  break"
      ],
      "metadata": {
        "colab": {
          "base_uri": "https://localhost:8080/"
        },
        "id": "vs_Zp-UJ5ISe",
        "outputId": "c0a57083-ecd4-403a-8baa-911603f73d86"
      },
      "execution_count": null,
      "outputs": [
        {
          "output_type": "stream",
          "name": "stdout",
          "text": [
            "torch.Size([1, 28, 28]) tensor(8)\n"
          ]
        }
      ]
    },
    {
      "cell_type": "code",
      "source": [
        "# Display a grid of sample images\n",
        "plt.figure(figsize=(10, 10))\n",
        "for i, (images, labels) in enumerate(train_loader):\n",
        "  for j in range(25):\n",
        "    plt.subplot(5, 5, j + 1)\n",
        "    plt.imshow(images[j].squeeze(), cmap='gray')\n",
        "    plt.axis('off')\n",
        "    break\n",
        "plt.show()\n"
      ],
      "metadata": {
        "colab": {
          "base_uri": "https://localhost:8080/",
          "height": 169
        },
        "id": "dJ-AeX4h5_UH",
        "outputId": "bad799df-aaec-4b56-fbbf-3e26dcc93cc6"
      },
      "execution_count": null,
      "outputs": [
        {
          "output_type": "display_data",
          "data": {
            "text/plain": [
              "<Figure size 1000x1000 with 1 Axes>"
            ],
            "image/png": "[encoded data removed]"
          },
          "metadata": {}
        }
      ]
    },
    {
      "cell_type": "code",
      "source": [
        "class MLP(nn.Module):\n",
        "  def __init__(self, num_features, num_hidden_1, num_hidden_2, num_classes):\n",
        "    super().__init__()\n",
        "    self.network = torch.nn.Sequential(\n",
        "    # 1st hidden layer\n",
        "    torch.nn.Flatten(),\n",
        "    torch.nn.Linear(num_features, num_hidden_1),\n",
        "    torch.nn.BatchNorm1d(num_hidden_1),\n",
        "    torch.nn.ReLU(),\n",
        "    torch.nn.Dropout(0.5),\n",
        "  # 2nd hidden layer\n",
        "  torch.nn.Linear(num_hidden_1, num_hidden_2),\n",
        "  torch.nn.BatchNorm1d(num_hidden_2),\n",
        "  torch.nn.ReLU(),\n",
        "  torch.nn.Dropout(0.3),\n",
        "  # output layer\n",
        "  torch.nn.Linear(num_hidden_2, num_classes)\n",
        ")\n",
        "\n",
        "  def forward(self, x):\n",
        "    logits = self.network(x)\n",
        "    return logits"
      ],
      "metadata": {
        "id": "W6KMbUOa6fGA"
      },
      "execution_count": null,
      "outputs": []
    },
    {
      "cell_type": "code",
      "source": [
        "model = MLP(num_features=28*28,\n",
        "num_hidden_1=128,\n",
        "num_hidden_2=64,\n",
        "num_classes=10)\n",
        "model = model.to(device)\n",
        "criterion = nn.CrossEntropyLoss()\n",
        "optimizer = torch.optim.SGD(model.parameters(), lr=0.1, momentum=0.9,\n",
        "weight_decay=0.0001)\n",
        "scheduler = torch.optim.lr_scheduler.ReduceLROnPlateau(optimizer,\n",
        "factor=0.1,\n",
        "mode='min')"
      ],
      "metadata": {
        "id": "zo_bqvWm6_5k"
      },
      "execution_count": null,
      "outputs": []
    },
    {
      "cell_type": "code",
      "source": [
        "# Define optimizer\n",
        "optimizer = optim.Adam(model.parameters(), lr=0.001)"
      ],
      "metadata": {
        "id": "r-9DNhVL7KJ4"
      },
      "execution_count": null,
      "outputs": []
    },
    {
      "cell_type": "code",
      "source": [
        "# Scheduler with step decay\n",
        "scheduler = StepLR(optimizer, step_size=30, gamma=0.1)\n"
      ],
      "metadata": {
        "id": "PiemuQPp7dNM"
      },
      "execution_count": null,
      "outputs": []
    },
    {
      "cell_type": "code",
      "source": [
        "def compute_accuracy(data_loader):\n",
        "  with torch.no_grad():\n",
        "    correct_pred, num_examples = 0, 0\n",
        "    for i, (features, targets) in enumerate(data_loader):\n",
        "      features = features.to(device)\n",
        "      targets = targets.float().to(device)\n",
        "      logits = model(features)\n",
        "      _, predicted_labels = torch.max(logits, 1)\n",
        "      num_examples += targets.size(0)\n",
        "      correct_pred += (predicted_labels == targets).sum()\n",
        "  return correct_pred.float()/num_examples * 100"
      ],
      "metadata": {
        "id": "wVFiboSK8HTo"
      },
      "execution_count": null,
      "outputs": []
    },
    {
      "cell_type": "code",
      "source": [
        "start_time = time.time()\n",
        "minibatch_loss_list, train_acc_list, valid_acc_list = [], [], []\n",
        "for epoch in range(epochs):\n",
        "  model.train()\n",
        "  for batch_idx, (features, targets) in enumerate(train_loader):\n",
        "    features = features.to(device)\n",
        "    targets = targets.to(device)\n",
        "    # ## FORWARD AND BACK PROP\n",
        "    logits = model(features)\n",
        "    #loss = F.cross_entropy(logits, targets)\n",
        "    loss = criterion(logits, targets)\n",
        "    optimizer.zero_grad()\n",
        "    loss.backward()\n",
        "    # ## UPDATE MODEL PARAMETERS\n",
        "    optimizer.step()\n",
        "    # ## LOGGING\n",
        "    minibatch_loss_list.append(loss.item())\n",
        "    logging_interval = 100\n",
        "    if not batch_idx % logging_interval:\n",
        "      print(\"Epoch: \", epoch+1,\"/\", epochs,\"| Batch \",batch_idx,\n",
        "    \"/\",len(train_loader), f'| Loss: {loss:.4f}')\n",
        "  model.eval()\n",
        "  with torch.no_grad(): # save memory during inference\n",
        "    train_acc = compute_accuracy(train_loader)\n",
        "    valid_acc = compute_accuracy(valid_loader)\n",
        "    print(\"Epoch: \", epoch+1, \"/\",epochs, \"completed\",\n",
        "    f'| Train: {train_acc :.2f}% '\n",
        "    f'| Validation: {valid_acc :.2f}%')\n",
        "    train_acc_list.append(train_acc.item())\n",
        "    valid_acc_list.append(valid_acc.item())\n",
        "elapsed = (time.time() - start_time)/60\n",
        "print(\"Time elapsed: \",elapsed, \" min\")\n",
        "scheduler.step(minibatch_loss_list[-1])\n",
        "elapsed = (time.time() - start_time)/60\n",
        "print(f'Total Training Time: {elapsed:.2f} min')\n",
        "test_acc = compute_accuracy(test_loader)\n",
        "print(f'Test accuracy {test_acc :.2f}%')"
      ],
      "metadata": {
        "colab": {
          "base_uri": "https://localhost:8080/"
        },
        "id": "LrZ5_Nk58fu3",
        "outputId": "f25f3286-cb11-4f39-a61c-6bf1bac3c479"
      },
      "execution_count": null,
      "outputs": [
        {
          "output_type": "stream",
          "name": "stdout",
          "text": [
            "Epoch:  1 / 20 | Batch  0 / 843 | Loss: 2.3129\n",
            "Epoch:  1 / 20 | Batch  100 / 843 | Loss: 0.6639\n",
            "Epoch:  1 / 20 | Batch  200 / 843 | Loss: 0.6327\n",
            "Epoch:  1 / 20 | Batch  300 / 843 | Loss: 0.4612\n",
            "Epoch:  1 / 20 | Batch  400 / 843 | Loss: 0.4147\n",
            "Epoch:  1 / 20 | Batch  500 / 843 | Loss: 0.1736\n",
            "Epoch:  1 / 20 | Batch  600 / 843 | Loss: 0.3688\n",
            "Epoch:  1 / 20 | Batch  700 / 843 | Loss: 0.1921\n",
            "Epoch:  1 / 20 | Batch  800 / 843 | Loss: 0.3725\n",
            "Epoch:  1 / 20 completed | Train: 94.58% | Validation: 95.87%\n",
            "Epoch:  2 / 20 | Batch  0 / 843 | Loss: 0.2415\n",
            "Epoch:  2 / 20 | Batch  100 / 843 | Loss: 0.5284\n",
            "Epoch:  2 / 20 | Batch  200 / 843 | Loss: 0.3307\n",
            "Epoch:  2 / 20 | Batch  300 / 843 | Loss: 0.3839\n",
            "Epoch:  2 / 20 | Batch  400 / 843 | Loss: 0.2891\n",
            "Epoch:  2 / 20 | Batch  500 / 843 | Loss: 0.3198\n",
            "Epoch:  2 / 20 | Batch  600 / 843 | Loss: 0.4130\n",
            "Epoch:  2 / 20 | Batch  700 / 843 | Loss: 0.2191\n",
            "Epoch:  2 / 20 | Batch  800 / 843 | Loss: 0.2663\n",
            "Epoch:  2 / 20 completed | Train: 96.09% | Validation: 96.63%\n",
            "Epoch:  3 / 20 | Batch  0 / 843 | Loss: 0.2278\n",
            "Epoch:  3 / 20 | Batch  100 / 843 | Loss: 0.0984\n",
            "Epoch:  3 / 20 | Batch  200 / 843 | Loss: 0.3246\n",
            "Epoch:  3 / 20 | Batch  300 / 843 | Loss: 0.2178\n",
            "Epoch:  3 / 20 | Batch  400 / 843 | Loss: 0.4058\n",
            "Epoch:  3 / 20 | Batch  500 / 843 | Loss: 0.1555\n",
            "Epoch:  3 / 20 | Batch  600 / 843 | Loss: 0.2299\n",
            "Epoch:  3 / 20 | Batch  700 / 843 | Loss: 0.2520\n",
            "Epoch:  3 / 20 | Batch  800 / 843 | Loss: 0.1504\n",
            "Epoch:  3 / 20 completed | Train: 96.80% | Validation: 97.28%\n",
            "Epoch:  4 / 20 | Batch  0 / 843 | Loss: 0.3003\n",
            "Epoch:  4 / 20 | Batch  100 / 843 | Loss: 0.2204\n",
            "Epoch:  4 / 20 | Batch  200 / 843 | Loss: 0.2659\n",
            "Epoch:  4 / 20 | Batch  300 / 843 | Loss: 0.5489\n",
            "Epoch:  4 / 20 | Batch  400 / 843 | Loss: 0.1914\n",
            "Epoch:  4 / 20 | Batch  500 / 843 | Loss: 0.4866\n",
            "Epoch:  4 / 20 | Batch  600 / 843 | Loss: 0.1309\n",
            "Epoch:  4 / 20 | Batch  700 / 843 | Loss: 0.3487\n",
            "Epoch:  4 / 20 | Batch  800 / 843 | Loss: 0.1976\n",
            "Epoch:  4 / 20 completed | Train: 97.29% | Validation: 97.65%\n",
            "Epoch:  5 / 20 | Batch  0 / 843 | Loss: 0.5672\n",
            "Epoch:  5 / 20 | Batch  100 / 843 | Loss: 0.2858\n",
            "Epoch:  5 / 20 | Batch  200 / 843 | Loss: 0.1176\n",
            "Epoch:  5 / 20 | Batch  300 / 843 | Loss: 0.1573\n",
            "Epoch:  5 / 20 | Batch  400 / 843 | Loss: 0.1781\n",
            "Epoch:  5 / 20 | Batch  500 / 843 | Loss: 0.2880\n",
            "Epoch:  5 / 20 | Batch  600 / 843 | Loss: 0.2927\n",
            "Epoch:  5 / 20 | Batch  700 / 843 | Loss: 0.1496\n",
            "Epoch:  5 / 20 | Batch  800 / 843 | Loss: 0.1931\n",
            "Epoch:  5 / 20 completed | Train: 97.48% | Validation: 97.53%\n",
            "Epoch:  6 / 20 | Batch  0 / 843 | Loss: 0.1583\n",
            "Epoch:  6 / 20 | Batch  100 / 843 | Loss: 0.2131\n",
            "Epoch:  6 / 20 | Batch  200 / 843 | Loss: 0.2197\n",
            "Epoch:  6 / 20 | Batch  300 / 843 | Loss: 0.2703\n",
            "Epoch:  6 / 20 | Batch  400 / 843 | Loss: 0.2222\n",
            "Epoch:  6 / 20 | Batch  500 / 843 | Loss: 0.0785\n",
            "Epoch:  6 / 20 | Batch  600 / 843 | Loss: 0.1458\n",
            "Epoch:  6 / 20 | Batch  700 / 843 | Loss: 0.1573\n",
            "Epoch:  6 / 20 | Batch  800 / 843 | Loss: 0.1883\n",
            "Epoch:  6 / 20 completed | Train: 97.75% | Validation: 97.65%\n",
            "Epoch:  7 / 20 | Batch  0 / 843 | Loss: 0.2254\n",
            "Epoch:  7 / 20 | Batch  100 / 843 | Loss: 0.2247\n",
            "Epoch:  7 / 20 | Batch  200 / 843 | Loss: 0.2322\n",
            "Epoch:  7 / 20 | Batch  300 / 843 | Loss: 0.4485\n",
            "Epoch:  7 / 20 | Batch  400 / 843 | Loss: 0.1572\n",
            "Epoch:  7 / 20 | Batch  500 / 843 | Loss: 0.2352\n",
            "Epoch:  7 / 20 | Batch  600 / 843 | Loss: 0.1120\n",
            "Epoch:  7 / 20 | Batch  700 / 843 | Loss: 0.1400\n",
            "Epoch:  7 / 20 | Batch  800 / 843 | Loss: 0.2667\n",
            "Epoch:  7 / 20 completed | Train: 97.90% | Validation: 97.95%\n",
            "Epoch:  8 / 20 | Batch  0 / 843 | Loss: 0.3409\n",
            "Epoch:  8 / 20 | Batch  100 / 843 | Loss: 0.2558\n",
            "Epoch:  8 / 20 | Batch  200 / 843 | Loss: 0.2401\n",
            "Epoch:  8 / 20 | Batch  300 / 843 | Loss: 0.3642\n",
            "Epoch:  8 / 20 | Batch  400 / 843 | Loss: 0.1934\n",
            "Epoch:  8 / 20 | Batch  500 / 843 | Loss: 0.1048\n",
            "Epoch:  8 / 20 | Batch  600 / 843 | Loss: 0.1958\n",
            "Epoch:  8 / 20 | Batch  700 / 843 | Loss: 0.1057\n",
            "Epoch:  8 / 20 | Batch  800 / 843 | Loss: 0.1046\n",
            "Epoch:  8 / 20 completed | Train: 98.06% | Validation: 97.95%\n",
            "Epoch:  9 / 20 | Batch  0 / 843 | Loss: 0.1323\n",
            "Epoch:  9 / 20 | Batch  100 / 843 | Loss: 0.0873\n",
            "Epoch:  9 / 20 | Batch  200 / 843 | Loss: 0.1296\n",
            "Epoch:  9 / 20 | Batch  300 / 843 | Loss: 0.2711\n",
            "Epoch:  9 / 20 | Batch  400 / 843 | Loss: 0.3161\n",
            "Epoch:  9 / 20 | Batch  500 / 843 | Loss: 0.2197\n",
            "Epoch:  9 / 20 | Batch  600 / 843 | Loss: 0.1794\n",
            "Epoch:  9 / 20 | Batch  700 / 843 | Loss: 0.0997\n",
            "Epoch:  9 / 20 | Batch  800 / 843 | Loss: 0.1276\n",
            "Epoch:  9 / 20 completed | Train: 98.27% | Validation: 97.92%\n",
            "Epoch:  10 / 20 | Batch  0 / 843 | Loss: 0.1269\n",
            "Epoch:  10 / 20 | Batch  100 / 843 | Loss: 0.1260\n",
            "Epoch:  10 / 20 | Batch  200 / 843 | Loss: 0.0918\n",
            "Epoch:  10 / 20 | Batch  300 / 843 | Loss: 0.0761\n",
            "Epoch:  10 / 20 | Batch  400 / 843 | Loss: 0.0817\n",
            "Epoch:  10 / 20 | Batch  500 / 843 | Loss: 0.1140\n",
            "Epoch:  10 / 20 | Batch  600 / 843 | Loss: 0.3450\n",
            "Epoch:  10 / 20 | Batch  700 / 843 | Loss: 0.1653\n",
            "Epoch:  10 / 20 | Batch  800 / 843 | Loss: 0.1354\n",
            "Epoch:  10 / 20 completed | Train: 98.32% | Validation: 97.97%\n",
            "Epoch:  11 / 20 | Batch  0 / 843 | Loss: 0.1417\n",
            "Epoch:  11 / 20 | Batch  100 / 843 | Loss: 0.2894\n",
            "Epoch:  11 / 20 | Batch  200 / 843 | Loss: 0.1412\n",
            "Epoch:  11 / 20 | Batch  300 / 843 | Loss: 0.1546\n",
            "Epoch:  11 / 20 | Batch  400 / 843 | Loss: 0.1270\n",
            "Epoch:  11 / 20 | Batch  500 / 843 | Loss: 0.1751\n",
            "Epoch:  11 / 20 | Batch  600 / 843 | Loss: 0.0633\n",
            "Epoch:  11 / 20 | Batch  700 / 843 | Loss: 0.0837\n",
            "Epoch:  11 / 20 | Batch  800 / 843 | Loss: 0.2343\n",
            "Epoch:  11 / 20 completed | Train: 98.39% | Validation: 97.98%\n",
            "Epoch:  12 / 20 | Batch  0 / 843 | Loss: 0.1281\n",
            "Epoch:  12 / 20 | Batch  100 / 843 | Loss: 0.1749\n",
            "Epoch:  12 / 20 | Batch  200 / 843 | Loss: 0.3243\n",
            "Epoch:  12 / 20 | Batch  300 / 843 | Loss: 0.1804\n",
            "Epoch:  12 / 20 | Batch  400 / 843 | Loss: 0.1018\n",
            "Epoch:  12 / 20 | Batch  500 / 843 | Loss: 0.2773\n",
            "Epoch:  12 / 20 | Batch  600 / 843 | Loss: 0.2530\n",
            "Epoch:  12 / 20 | Batch  700 / 843 | Loss: 0.1115\n",
            "Epoch:  12 / 20 | Batch  800 / 843 | Loss: 0.1414\n",
            "Epoch:  12 / 20 completed | Train: 98.47% | Validation: 98.07%\n",
            "Epoch:  13 / 20 | Batch  0 / 843 | Loss: 0.1474\n",
            "Epoch:  13 / 20 | Batch  100 / 843 | Loss: 0.1507\n",
            "Epoch:  13 / 20 | Batch  200 / 843 | Loss: 0.1908\n",
            "Epoch:  13 / 20 | Batch  300 / 843 | Loss: 0.0871\n",
            "Epoch:  13 / 20 | Batch  400 / 843 | Loss: 0.1603\n",
            "Epoch:  13 / 20 | Batch  500 / 843 | Loss: 0.3253\n",
            "Epoch:  13 / 20 | Batch  600 / 843 | Loss: 0.0667\n",
            "Epoch:  13 / 20 | Batch  700 / 843 | Loss: 0.1730\n",
            "Epoch:  13 / 20 | Batch  800 / 843 | Loss: 0.0625\n",
            "Epoch:  13 / 20 completed | Train: 98.59% | Validation: 97.92%\n",
            "Epoch:  14 / 20 | Batch  0 / 843 | Loss: 0.0968\n",
            "Epoch:  14 / 20 | Batch  100 / 843 | Loss: 0.3443\n",
            "Epoch:  14 / 20 | Batch  200 / 843 | Loss: 0.2197\n",
            "Epoch:  14 / 20 | Batch  300 / 843 | Loss: 0.0747\n",
            "Epoch:  14 / 20 | Batch  400 / 843 | Loss: 0.2143\n",
            "Epoch:  14 / 20 | Batch  500 / 843 | Loss: 0.1424\n",
            "Epoch:  14 / 20 | Batch  600 / 843 | Loss: 0.0926\n",
            "Epoch:  14 / 20 | Batch  700 / 843 | Loss: 0.1535\n",
            "Epoch:  14 / 20 | Batch  800 / 843 | Loss: 0.1495\n",
            "Epoch:  14 / 20 completed | Train: 98.57% | Validation: 97.97%\n",
            "Epoch:  15 / 20 | Batch  0 / 843 | Loss: 0.1221\n",
            "Epoch:  15 / 20 | Batch  100 / 843 | Loss: 0.0975\n",
            "Epoch:  15 / 20 | Batch  200 / 843 | Loss: 0.1607\n",
            "Epoch:  15 / 20 | Batch  300 / 843 | Loss: 0.1092\n",
            "Epoch:  15 / 20 | Batch  400 / 843 | Loss: 0.2657\n",
            "Epoch:  15 / 20 | Batch  500 / 843 | Loss: 0.1869\n",
            "Epoch:  15 / 20 | Batch  600 / 843 | Loss: 0.0504\n",
            "Epoch:  15 / 20 | Batch  700 / 843 | Loss: 0.1504\n",
            "Epoch:  15 / 20 | Batch  800 / 843 | Loss: 0.1571\n",
            "Epoch:  15 / 20 completed | Train: 98.56% | Validation: 98.17%\n",
            "Epoch:  16 / 20 | Batch  0 / 843 | Loss: 0.1474\n",
            "Epoch:  16 / 20 | Batch  100 / 843 | Loss: 0.0386\n",
            "Epoch:  16 / 20 | Batch  200 / 843 | Loss: 0.2359\n",
            "Epoch:  16 / 20 | Batch  300 / 843 | Loss: 0.0783\n",
            "Epoch:  16 / 20 | Batch  400 / 843 | Loss: 0.2003\n",
            "Epoch:  16 / 20 | Batch  500 / 843 | Loss: 0.1695\n",
            "Epoch:  16 / 20 | Batch  600 / 843 | Loss: 0.1200\n",
            "Epoch:  16 / 20 | Batch  700 / 843 | Loss: 0.1209\n",
            "Epoch:  16 / 20 | Batch  800 / 843 | Loss: 0.1353\n",
            "Epoch:  16 / 20 completed | Train: 98.73% | Validation: 98.08%\n",
            "Epoch:  17 / 20 | Batch  0 / 843 | Loss: 0.0986\n",
            "Epoch:  17 / 20 | Batch  100 / 843 | Loss: 0.1226\n",
            "Epoch:  17 / 20 | Batch  200 / 843 | Loss: 0.1874\n",
            "Epoch:  17 / 20 | Batch  300 / 843 | Loss: 0.1514\n",
            "Epoch:  17 / 20 | Batch  400 / 843 | Loss: 0.1724\n",
            "Epoch:  17 / 20 | Batch  500 / 843 | Loss: 0.1861\n",
            "Epoch:  17 / 20 | Batch  600 / 843 | Loss: 0.0527\n",
            "Epoch:  17 / 20 | Batch  700 / 843 | Loss: 0.0663\n",
            "Epoch:  17 / 20 | Batch  800 / 843 | Loss: 0.1581\n",
            "Epoch:  17 / 20 completed | Train: 98.71% | Validation: 98.22%\n",
            "Epoch:  18 / 20 | Batch  0 / 843 | Loss: 0.0840\n",
            "Epoch:  18 / 20 | Batch  100 / 843 | Loss: 0.1773\n",
            "Epoch:  18 / 20 | Batch  200 / 843 | Loss: 0.1210\n",
            "Epoch:  18 / 20 | Batch  300 / 843 | Loss: 0.2294\n",
            "Epoch:  18 / 20 | Batch  400 / 843 | Loss: 0.0346\n",
            "Epoch:  18 / 20 | Batch  500 / 843 | Loss: 0.0732\n",
            "Epoch:  18 / 20 | Batch  600 / 843 | Loss: 0.2328\n",
            "Epoch:  18 / 20 | Batch  700 / 843 | Loss: 0.1282\n",
            "Epoch:  18 / 20 | Batch  800 / 843 | Loss: 0.2104\n",
            "Epoch:  18 / 20 completed | Train: 98.81% | Validation: 98.15%\n",
            "Epoch:  19 / 20 | Batch  0 / 843 | Loss: 0.1277\n",
            "Epoch:  19 / 20 | Batch  100 / 843 | Loss: 0.1047\n",
            "Epoch:  19 / 20 | Batch  200 / 843 | Loss: 0.1509\n",
            "Epoch:  19 / 20 | Batch  300 / 843 | Loss: 0.1241\n",
            "Epoch:  19 / 20 | Batch  400 / 843 | Loss: 0.1282\n",
            "Epoch:  19 / 20 | Batch  500 / 843 | Loss: 0.0994\n",
            "Epoch:  19 / 20 | Batch  600 / 843 | Loss: 0.1538\n",
            "Epoch:  19 / 20 | Batch  700 / 843 | Loss: 0.0971\n",
            "Epoch:  19 / 20 | Batch  800 / 843 | Loss: 0.1729\n",
            "Epoch:  19 / 20 completed | Train: 98.93% | Validation: 98.12%\n",
            "Epoch:  20 / 20 | Batch  0 / 843 | Loss: 0.1703\n",
            "Epoch:  20 / 20 | Batch  100 / 843 | Loss: 0.1359\n",
            "Epoch:  20 / 20 | Batch  200 / 843 | Loss: 0.1091\n",
            "Epoch:  20 / 20 | Batch  300 / 843 | Loss: 0.1294\n",
            "Epoch:  20 / 20 | Batch  400 / 843 | Loss: 0.0661\n",
            "Epoch:  20 / 20 | Batch  500 / 843 | Loss: 0.1937\n",
            "Epoch:  20 / 20 | Batch  600 / 843 | Loss: 0.2040\n",
            "Epoch:  20 / 20 | Batch  700 / 843 | Loss: 0.1881\n",
            "Epoch:  20 / 20 | Batch  800 / 843 | Loss: 0.1821\n",
            "Epoch:  20 / 20 completed | Train: 98.90% | Validation: 98.10%\n",
            "Time elapsed:  9.19245119492213  min\n",
            "Total Training Time: 9.19 min\n"
          ]
        },
        {
          "output_type": "stream",
          "name": "stderr",
          "text": [
            "/usr/local/lib/python3.10/dist-packages/torch/optim/lr_scheduler.py:156: UserWarning: The epoch parameter in `scheduler.step()` was not necessary and is being deprecated where possible. Please use `scheduler.step()` to step the scheduler. During the deprecation, if epoch is different from None, the closed form is used instead of the new chainable form, where available. Please open an issue if you are unable to replicate your use case: https://github.com/pytorch/pytorch/issues/new/choose.\n",
            "  warnings.warn(EPOCH_DEPRECATION_WARNING, UserWarning)\n"
          ]
        },
        {
          "output_type": "stream",
          "name": "stdout",
          "text": [
            "Test accuracy 97.78%\n"
          ]
        }
      ]
    },
    {
      "cell_type": "code",
      "source": [
        "plt.plot(range(len(minibatch_loss_list)), minibatch_loss_list)\n",
        "plt.xlabel('Iterations')\n",
        "plt.ylabel('Loss')"
      ],
      "metadata": {
        "colab": {
          "base_uri": "https://localhost:8080/",
          "height": 466
        },
        "id": "bdbzGpArBCQn",
        "outputId": "7874287b-167f-4c45-93c6-58c0fa3c729f"
      },
      "execution_count": null,
      "outputs": [
        {
          "output_type": "execute_result",
          "data": {
            "text/plain": [
              "Text(0, 0.5, 'Loss')"
            ]
          },
          "metadata": {},
          "execution_count": 15
        },
        {
          "output_type": "display_data",
          "data": {
            "text/plain": [
              "<Figure size 640x480 with 1 Axes>"
            ],
            "image/png": "[encoded data removed]"
          },
          "metadata": {}
        }
      ]
    },
    {
      "cell_type": "code",
      "source": [
        "num_epochs = len(train_acc_list)\n",
        "plt.plot(np.arange(1, num_epochs+1),\n",
        "train_acc_list, label='Training')\n",
        "plt.plot(np.arange(1, num_epochs+1),\n",
        "valid_acc_list, label='Validation')\n",
        "plt.xlabel('Epoch')\n",
        "plt.ylabel('Accuracy')\n",
        "plt.legend()"
      ],
      "metadata": {
        "colab": {
          "base_uri": "https://localhost:8080/",
          "height": 466
        },
        "id": "Xl1GMr2JBH24",
        "outputId": "57fb55b6-a508-4274-e862-7bcc9cb64be1"
      },
      "execution_count": null,
      "outputs": [
        {
          "output_type": "execute_result",
          "data": {
            "text/plain": [
              "<matplotlib.legend.Legend at 0x7a7c98434a30>"
            ]
          },
          "metadata": {},
          "execution_count": 16
        },
        {
          "output_type": "display_data",
          "data": {
            "text/plain": [
              "<Figure size 640x480 with 1 Axes>"
            ],
            "image/png": "[encoded data removed]"
          },
          "metadata": {}
        }
      ]
    },
    {
      "cell_type": "code",
      "source": [
        "# Set the model to evaluation\n",
        "model.eval()\n",
        "\n",
        "all_predictions = []\n",
        "all_targets = []\n",
        "\n",
        "# Iterate over the test dataset\n",
        "for features, targets in test_loader:\n",
        "    # Move data to the device\n",
        "    features = features.to(device)\n",
        "    targets = targets.to(device)\n",
        "\n",
        "    # Forward pass\n",
        "    logits = model(features)\n",
        "\n",
        "    # Get predictions\n",
        "    _, predicted_labels = torch.max(logits, 1)\n",
        "\n",
        "    # Append predictions and actual labels to the lists\n",
        "    all_predictions.extend(predicted_labels.cpu().numpy())\n",
        "    all_targets.extend(targets.cpu().numpy())\n",
        "\n",
        "# Convert lists to numpy arrays\n",
        "all_predictions = np.array(all_predictions)\n",
        "all_targets = np.array(all_targets)\n",
        "\n",
        "# Generate confusion matrix\n",
        "conf_matrix = confusion_matrix(all_targets, all_predictions)\n",
        "classes = range(10)\n",
        "\n",
        "# Display confusion matrix\n",
        "plt.figure(figsize=(10, 8))\n",
        "sns.heatmap(conf_matrix, annot=True, fmt=\"d\", cmap=\"Blues\", xticklabels=classes, yticklabels=classes, cbar=False)\n",
        "plt.xlabel(\"Predicted labels\")\n",
        "plt.ylabel(\"True labels\")\n",
        "plt.title(\"Confusion Matrix\")\n",
        "plt.show()\n"
      ],
      "metadata": {
        "colab": {
          "base_uri": "https://localhost:8080/",
          "height": 718
        },
        "id": "nMpGGnQwl5hw",
        "outputId": "15ea75ab-e63e-430d-c6ad-630b8c0b1ec5"
      },
      "execution_count": 22,
      "outputs": [
        {
          "output_type": "display_data",
          "data": {
            "text/plain": [
              "<Figure size 1000x800 with 1 Axes>"
            ],
            "image/png": "[encoded data removed]"
          },
          "metadata": {}
        }
      ]
    },
    {
      "cell_type": "code",
      "source": [
        "from sklearn.metrics import classification_report\n",
        "\n",
        "# Classification report\n",
        "report = classification_report(all_targets, all_predictions, target_names=[str(i) for i in range(10)])\n",
        "\n",
        "# Print classification report\n",
        "print(report)\n"
      ],
      "metadata": {
        "colab": {
          "base_uri": "https://localhost:8080/"
        },
        "id": "RrQZHtGtrA6H",
        "outputId": "a4cffb9a-9a80-4e89-e308-f94ad431e3fc"
      },
      "execution_count": 23,
      "outputs": [
        {
          "output_type": "stream",
          "name": "stdout",
          "text": [
            "              precision    recall  f1-score   support\n",
            "\n",
            "           0       0.98      0.99      0.98       980\n",
            "           1       0.98      0.99      0.99      1135\n",
            "           2       0.98      0.98      0.98      1032\n",
            "           3       0.97      0.98      0.97      1010\n",
            "           4       0.97      0.98      0.98       982\n",
            "           5       0.98      0.97      0.98       892\n",
            "           6       0.98      0.98      0.98       958\n",
            "           7       0.98      0.97      0.97      1028\n",
            "           8       0.98      0.97      0.98       974\n",
            "           9       0.98      0.96      0.97      1009\n",
            "\n",
            "    accuracy                           0.98     10000\n",
            "   macro avg       0.98      0.98      0.98     10000\n",
            "weighted avg       0.98      0.98      0.98     10000\n",
            "\n"
          ]
        }
      ]
    }
  ]
}